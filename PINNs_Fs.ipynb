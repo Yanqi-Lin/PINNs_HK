{
 "cells": [
  {
   "cell_type": "code",
   "execution_count": 1,
   "id": "63c6e7b4-209d-4e2d-aaa9-11f45e6c70ac",
   "metadata": {},
   "outputs": [],
   "source": [
    "import scipy.io\n",
    "import torch\n",
    "import torch.nn as nn\n",
    "import torch.optim as optim\n",
    "import numpy as np\n",
    "import pandas as pd\n",
    "import matplotlib.pyplot as plt\n",
    "from sklearn.preprocessing import StandardScaler\n",
    "from sklearn.model_selection import train_test_split\n",
    "from sklearn.metrics import accuracy_score, precision_score, recall_score, confusion_matrix\n",
    "from sklearn.metrics import f1_score, roc_auc_score, roc_curve"
   ]
  },
  {
   "cell_type": "code",
   "execution_count": 2,
   "id": "6bc59826-80e3-4d57-8010-5f685a6faa99",
   "metadata": {},
   "outputs": [],
   "source": [
    "# 读取 .mat 文件\n",
    "mat_file = r\"D:\\School work\\10-Samples\\2025.02.19_DEM+Raingauge+VARI\\02.19.mat\"\n",
    "mat_data = scipy.io.loadmat(mat_file)"
   ]
  },
  {
   "cell_type": "markdown",
   "id": "e2611255-0d12-4ae7-b345-80b5cd4ea380",
   "metadata": {},
   "source": [
    "## 加载并整理输入数据"
   ]
  },
  {
   "cell_type": "code",
   "execution_count": 3,
   "id": "709fc2f0-6d29-4314-961a-9445ff2634fa",
   "metadata": {},
   "outputs": [],
   "source": [
    "# 提取特征和标签\n",
    "X = mat_data['X']  # 特征矩阵，包含高程、坡度、坡向、VARI 和降雨数据\n",
    "y = mat_data['y']  # 标签，二分类问题，滑坡发生与否（0或1）\n",
    "is_missing = mat_data['is_missing']  # 异常值指示变量"
   ]
  },
  {
   "cell_type": "code",
   "execution_count": 4,
   "id": "79d10154-00ae-49f4-93a5-5db080c5623f",
   "metadata": {},
   "outputs": [
    {
     "name": "stdout",
     "output_type": "stream",
     "text": [
      "(20144, 18) (1, 20144) (20144, 18)\n"
     ]
    }
   ],
   "source": [
    "# 检查数据维度\n",
    "print(X.shape, y.shape, is_missing.shape)"
   ]
  },
  {
   "cell_type": "code",
   "execution_count": 5,
   "id": "b1c3d840-fa44-4cb1-9e13-97cffe1effb0",
   "metadata": {},
   "outputs": [],
   "source": [
    "# 提取特征\n",
    "rainfall = X[:, 1:14]  # 过去13天的降雨量数据（Rainfall_2 至 Rainfall_14）\n",
    "elevation = X[:, 14]  # 高程（第15列）\n",
    "slope = X[:, 15]  # 坡度（第16列）\n",
    "aspect = X[:, 16]  # 坡向（第17列）\n",
    "VARI = X[:, 17]  # VARI（第18列）\n",
    "\n",
    "# R_today 是当天的降雨量\n",
    "R_today = X[:, 0]  # 当天的降雨量是降雨数据的第一列（Rainfall_1）"
   ]
  },
  {
   "cell_type": "code",
   "execution_count": 6,
   "id": "f2311783-32c1-4063-bb30-f0974414a722",
   "metadata": {},
   "outputs": [],
   "source": [
    "# # 查看提取的特征形状\n",
    "# print(\"降雨数据形状:\", rainfall.shape)\n",
    "# print(\"高程数据形状:\", elevation.shape)\n",
    "# print(\"坡度数据形状:\", slope.shape)\n",
    "# print(\"坡向数据形状:\", aspect.shape)\n",
    "# print(\"VARI数据形状:\", VARI.shape)"
   ]
  },
  {
   "cell_type": "code",
   "execution_count": 7,
   "id": "513dd9e3-5fc7-440e-b4dd-2959067e9607",
   "metadata": {},
   "outputs": [],
   "source": [
    "# 假设土壤湿润度和摩擦力是常数（可以根据需要修改为数据驱动）\n",
    "S_moist = 0.5  # 土壤湿润度（假设为常数）\n",
    "mu = 0.3  # 摩擦力（假设为常数）\n",
    "k = 0.9  # 衰减系数（假设为常数）"
   ]
  },
  {
   "cell_type": "code",
   "execution_count": 8,
   "id": "23516de5-a6b7-4a41-b7be-ae37fbe289dd",
   "metadata": {},
   "outputs": [],
   "source": [
    "# 数据预处理：标准化特征数据\n",
    "scaler = StandardScaler()\n",
    "X_scaled = scaler.fit_transform(X)  # 标准化 X 数据"
   ]
  },
  {
   "cell_type": "code",
   "execution_count": 9,
   "id": "27a5c8f0-f807-4287-99a3-8bba7c004eb5",
   "metadata": {},
   "outputs": [],
   "source": [
    "# is_missing 的形状为 (20144, 18)，表示每个特征的缺失指示值\n",
    "X_train_with_missing = np.hstack([X_scaled, is_missing])\n",
    "# 结合 `is_missing` 作为额外特征"
   ]
  },
  {
   "cell_type": "code",
   "execution_count": 10,
   "id": "f8967b4f-51a0-407a-bb0e-2548054b0945",
   "metadata": {},
   "outputs": [],
   "source": [
    "# 扁平化标签，确保其为一维数组\n",
    "y_train = y.flatten() "
   ]
  },
  {
   "cell_type": "code",
   "execution_count": 11,
   "id": "35efc023-6d54-43b6-9909-a7715698d294",
   "metadata": {},
   "outputs": [],
   "source": [
    "# # 将 `X_train_with_missing` 和 `y_train` 转换为 Tensor 类型\n",
    "X_train_tensor = torch.tensor(X_train_with_missing, dtype=torch.float32)\n",
    "y_train_tensor = torch.tensor(y_train, dtype=torch.float32)  # 扁平化标签，确保其为一维数组"
   ]
  },
  {
   "cell_type": "code",
   "execution_count": 12,
   "id": "ab5b21a1-c821-4615-8baa-9c753d36eacf",
   "metadata": {},
   "outputs": [],
   "source": [
    "# # 将 `rainfall`、`slope` 和 `R_today` 转换为 Tensor 类型\n",
    "rainfall_tensor = torch.tensor(rainfall, dtype=torch.float32)  # 降雨量数据\n",
    "slope_tensor = torch.tensor(slope, dtype=torch.float32)  # 坡度\n",
    "R_today_tensor = torch.tensor(R_today, dtype=torch.float32)  # 当天降雨量"
   ]
  },
  {
   "cell_type": "code",
   "execution_count": 13,
   "id": "7ed0418d-d007-4f96-bad6-71da5bf1b827",
   "metadata": {},
   "outputs": [],
   "source": [
    "# 划分数据集为训练集和测试集（80% 训练，20% 测试）\n",
    "X_train, X_test, y_train, y_test = train_test_split(X_train_tensor, y_train_tensor, test_size=0.3, random_state=42)"
   ]
  },
  {
   "cell_type": "markdown",
   "id": "4d74beb0-79de-4524-a039-86420151a3c2",
   "metadata": {},
   "source": [
    "## 定义模型"
   ]
  },
  {
   "cell_type": "code",
   "execution_count": 14,
   "id": "def0fcbe-6fd9-4285-850f-6d83786b9921",
   "metadata": {},
   "outputs": [],
   "source": [
    "# 定义多层感知机（MLP）模型\n",
    "class MLP(nn.Module):\n",
    "    def __init__(self, input_size, hidden_size, output_size, depth, dropout_rate=0.1):\n",
    "        super(MLP, self).__init__()\n",
    "        \n",
    "        # 定义网络层\n",
    "        layers = []\n",
    "        layers.append(nn.Linear(input_size, hidden_size))  # 输入层\n",
    "        layers.append(nn.Tanh())  # 激活函数：tanh\n",
    "        layers.append(nn.Dropout(dropout_rate))  # Dropout层\n",
    "        \n",
    "        # 隐藏层\n",
    "        for _ in range(depth):\n",
    "            layers.append(nn.Linear(hidden_size, hidden_size))\n",
    "            layers.append(nn.Tanh())  # 激活函数：tanh\n",
    "            layers.append(nn.Dropout(dropout_rate))  # Dropout层\n",
    "        \n",
    "        # 输出层\n",
    "        layers.append(nn.Linear(hidden_size, output_size))  # 输出层（logits）\n",
    "        self.model = nn.Sequential(*layers)\n",
    "        \n",
    "    def forward(self, x):\n",
    "        x = self.model(x)\n",
    "        return x  # 在训练时返回 logits"
   ]
  },
  {
   "cell_type": "code",
   "execution_count": 15,
   "id": "2d31c45c-8cad-4bea-833d-3ece0ca9875d",
   "metadata": {},
   "outputs": [],
   "source": [
    "# 计算有效降雨量\n",
    "def effective_rainfall(R, k):\n",
    "    \"\"\"\n",
    "    计算有效降雨量 R_e\n",
    "    R: 降雨量列表（过去13天的降雨量）\n",
    "    k: 衰减系数\n",
    "    \"\"\"\n",
    "    R = torch.tensor(R, dtype=torch.float32)  # 确保 R 为 Tensor 类型\n",
    "    # 根据公式计算有效降雨量 R_e\n",
    "    R_e = torch.sum(R * k**torch.arange(R.shape[1], dtype=torch.float32), dim=1)  # 沿着列（降雨天数维度）求和\n",
    "    return R_e"
   ]
  },
  {
   "cell_type": "code",
   "execution_count": 16,
   "id": "002c97ad-5cb3-4090-9641-ede96f7d7b68",
   "metadata": {},
   "outputs": [],
   "source": [
    "# 计算物理损失函数\n",
    "def physics_loss(X, R, S_moist, theta, R_today, mu, k, rainfall_threshold, alpha=0.5):\n",
    "    # \"\"\"\n",
    "    # 计算改进后的物理损失函数 f(X) = |τ(X) - μ| + α * |rainfall_factor - μ'|\n",
    "    # 其中 τ(X) = R_e * S_moist * theta * R_today\n",
    "    # rainfall_factor 是降雨对滑坡的影响因子\n",
    "    # \"\"\"\n",
    "    # 将 R_today 转换为 Tensor 类型（确保一致性）\n",
    "    R_today_tensor = torch.tensor(R_today, dtype=torch.float32)  # 确保 R_today 为 Tensor 类型\n",
    "    \n",
    "    # 计算有效降雨量\n",
    "    R_e = effective_rainfall(R, k)  # 计算有效降雨量\n",
    "    tau = R_e * S_moist * theta * R_today_tensor  # 计算驱动力\n",
    "    \n",
    "    # 降雨影响因子：如果当天的降雨量大于某个阈值，滑坡发生的概率增加\n",
    "    rainfall_factor = torch.where(R_today_tensor > rainfall_threshold, torch.tensor(1.5), torch.tensor(1.0))\n",
    "    \n",
    "    # 土壤湿润度和地形因子对滑坡的影响\n",
    "    terrain_loss = torch.abs(rainfall_factor - mu)  # 降雨影响的损失\n",
    "    \n",
    "    # 总物理损失\n",
    "    total_loss = torch.abs(tau - mu) + alpha * terrain_loss  # 加权组合\n",
    "    return total_loss.mean()  # 返回平均物理损失"
   ]
  },
  {
   "cell_type": "code",
   "execution_count": 17,
   "id": "1db15e2c-52d4-4d18-be63-a1aefe752fa2",
   "metadata": {},
   "outputs": [],
   "source": [
    "# 定义总损失函数：数据损失 + 物理损失\n",
    "def total_loss(model, X_train, y_train, R, S_moist, theta, R_today, mu, k, rainfall_threshold, lambda_phy=0.1, alpha=0.5):\n",
    "    # 数据损失：二分类交叉熵损失\n",
    "    criterion = nn.BCEWithLogitsLoss()\n",
    "    outputs = model(X_train)\n",
    "    data_loss = criterion(outputs.squeeze(), y_train)\n",
    "    \n",
    "    # 物理损失\n",
    "    phy_loss = physics_loss(X_train, R, S_moist, theta, R_today, mu, k, rainfall_threshold, alpha)\n",
    "    \n",
    "    # 总损失：数据损失 + 物理损失\n",
    "    total = data_loss + lambda_phy * phy_loss\n",
    "    return total"
   ]
  },
  {
   "cell_type": "code",
   "execution_count": 18,
   "id": "e328c9e4-2799-49bf-8ce6-1991abe9322b",
   "metadata": {},
   "outputs": [],
   "source": [
    "# 创建多层感知机模型实例\n",
    "input_size = X_train_with_missing.shape[1]  # 特征数量（包括 is_missing）\n",
    "hidden_size = 64  # 隐藏层节点数\n",
    "output_size = 1  # 输出一个预测值\n",
    "depth = 3  # 隐藏层数量\n",
    "dropout_rate = 0.1  # Dropout层的丢弃率\n",
    "\n",
    "# 初始化模型\n",
    "mlp_model = MLP(input_size, hidden_size, output_size, depth, dropout_rate)"
   ]
  },
  {
   "cell_type": "code",
   "execution_count": 19,
   "id": "c66b140f-f687-4174-a519-db3af1899cbd",
   "metadata": {},
   "outputs": [],
   "source": [
    "# 定义优化器，并加入 L2 正则化的 weight_decay\n",
    "learning_rate = 1e-3\n",
    "lambda_l2 = 0.01  # 设置 L2 正则化强度\n",
    "optimizer = optim.Adam(mlp_model.parameters(), lr=learning_rate, weight_decay=lambda_l2)"
   ]
  },
  {
   "cell_type": "code",
   "execution_count": 20,
   "id": "c79b5b89-3f83-48ce-9a5c-50b759b1f76f",
   "metadata": {},
   "outputs": [],
   "source": [
    "# 训练模型\n",
    "def train(model, X_train, y_train, R, S_moist, theta, R_today, mu, k, rainfall_threshold, epochs=1000, lambda_phy=0.1):\n",
    "    optimizer = optim.Adam(model.parameters(), lr=1e-3)\n",
    "    model.train()\n",
    "    \n",
    "    for epoch in range(epochs):\n",
    "        optimizer.zero_grad()\n",
    "        \n",
    "        # 计算总损失\n",
    "        loss = total_loss(model, X_train, y_train, R, S_moist, theta, R_today, mu, k, rainfall_threshold, lambda_phy)\n",
    "        \n",
    "        # 反向传播\n",
    "        loss.backward()\n",
    "        optimizer.step()\n",
    "        \n",
    "        if epoch % 10 == 0:\n",
    "            print(f\"{epoch}, {loss.item():.6f}\")"
   ]
  },
  {
   "cell_type": "code",
   "execution_count": 21,
   "id": "3dbf5d2e-1eaa-4381-a0a9-9d81c44cf344",
   "metadata": {},
   "outputs": [],
   "source": [
    "# 下面这行是使用全部输入数据来训练模型的指令\n",
    "# train(mlp_model, X_train_with_missing, y.flatten())  # 扁平化 y，确保其是一个一维数组"
   ]
  },
  {
   "cell_type": "markdown",
   "id": "cddd7cf6-16d1-4df2-98eb-57ecd25c1392",
   "metadata": {},
   "source": [
    "## 设置训练集和测试集\n",
    "    后续使用测试集的测试效果反映模型性能"
   ]
  },
  {
   "cell_type": "code",
   "execution_count": 22,
   "id": "3b4fd4fd-9095-4638-a287-b2ae9c9ab0fa",
   "metadata": {},
   "outputs": [],
   "source": [
    "# # 确保所有输入数据是 Tensor 类型\n",
    "# print(f\"X_train type: {type(X_train_with_missing_tensor)}\")  # 应该是 <class 'torch.Tensor'>\n",
    "# print(f\"y_train type: {type(y_train)}\")  # 应该是 <class 'torch.Tensor'>\n",
    "# print(f\"rainfall type: {type(rainfall)}\")  # 应该是 <class 'torch.Tensor'>\n",
    "# print(f\"S_moist type: {type(S_moist)}\")  # 应该是 <class 'torch.Tensor'>\n",
    "# print(f\"slope type: {type(slope)}\")  # 应该是 <class 'torch.Tensor'>\n",
    "# print(f\"R_today type: {type(R_today)}\")  # 应该是 <class 'torch.Tensor'>\n",
    "# print(f\"mu type: {type(mu)}\")  # 应该是 <class 'torch.Tensor'>\n",
    "# print(f\"k: {type(k)}\")  # 应该是 <class 'torch.Tensor'>"
   ]
  },
  {
   "cell_type": "code",
   "execution_count": 23,
   "id": "d1be4ddc-cd6f-4d15-9926-e486abc75cdc",
   "metadata": {
    "scrolled": true
   },
   "outputs": [
    {
     "name": "stdout",
     "output_type": "stream",
     "text": [
      "0, 0.756804\n",
      "10, 0.657365\n",
      "20, 0.515166\n",
      "30, 0.495841\n",
      "40, 0.492394\n",
      "50, 0.486722\n",
      "60, 0.484702\n",
      "70, 0.481849\n",
      "80, 0.480705\n",
      "90, 0.481739\n",
      "100, 0.479674\n",
      "110, 0.479044\n",
      "120, 0.478441\n",
      "130, 0.478157\n",
      "140, 0.475556\n",
      "150, 0.475181\n",
      "160, 0.473284\n",
      "170, 0.469939\n",
      "180, 0.470808\n",
      "190, 0.468510\n",
      "200, 0.465746\n",
      "210, 0.464906\n",
      "220, 0.463648\n",
      "230, 0.462135\n",
      "240, 0.460255\n",
      "250, 0.459544\n",
      "260, 0.458783\n",
      "270, 0.459622\n",
      "280, 0.457408\n",
      "290, 0.456150\n",
      "300, 0.457596\n",
      "310, 0.455908\n",
      "320, 0.455491\n",
      "330, 0.454416\n",
      "340, 0.453885\n",
      "350, 0.452978\n",
      "360, 0.450984\n",
      "370, 0.452259\n",
      "380, 0.450479\n",
      "390, 0.451635\n",
      "400, 0.449868\n",
      "410, 0.450126\n",
      "420, 0.450797\n",
      "430, 0.447596\n",
      "440, 0.447539\n",
      "450, 0.447549\n",
      "460, 0.444956\n",
      "470, 0.446680\n",
      "480, 0.445713\n",
      "490, 0.444535\n",
      "500, 0.443004\n",
      "510, 0.440653\n",
      "520, 0.442300\n",
      "530, 0.440244\n",
      "540, 0.442553\n",
      "550, 0.440041\n",
      "560, 0.440274\n",
      "570, 0.439155\n",
      "580, 0.437783\n",
      "590, 0.436875\n",
      "600, 0.437117\n",
      "610, 0.435684\n",
      "620, 0.436605\n",
      "630, 0.435825\n",
      "640, 0.431878\n",
      "650, 0.433022\n",
      "660, 0.433467\n",
      "670, 0.432119\n",
      "680, 0.430049\n",
      "690, 0.430085\n",
      "700, 0.427719\n",
      "710, 0.426230\n",
      "720, 0.425578\n",
      "730, 0.425470\n",
      "740, 0.424277\n",
      "750, 0.424472\n",
      "760, 0.423689\n",
      "770, 0.422254\n",
      "780, 0.419607\n",
      "790, 0.421138\n",
      "800, 0.419254\n",
      "810, 0.418226\n",
      "820, 0.419841\n",
      "830, 0.417072\n",
      "840, 0.421117\n",
      "850, 0.415257\n",
      "860, 0.415641\n",
      "870, 0.412801\n",
      "880, 0.413408\n",
      "890, 0.412022\n",
      "900, 0.413502\n",
      "910, 0.415531\n",
      "920, 0.411796\n",
      "930, 0.412443\n",
      "940, 0.409174\n",
      "950, 0.407433\n",
      "960, 0.410872\n",
      "970, 0.409892\n",
      "980, 0.409236\n",
      "990, 0.407010\n",
      "1000, 0.402615\n",
      "1010, 0.403640\n",
      "1020, 0.406531\n",
      "1030, 0.402304\n",
      "1040, 0.402251\n",
      "1050, 0.402923\n",
      "1060, 0.400762\n",
      "1070, 0.400720\n",
      "1080, 0.404090\n",
      "1090, 0.398428\n",
      "1100, 0.397715\n",
      "1110, 0.398253\n",
      "1120, 0.395346\n",
      "1130, 0.396603\n",
      "1140, 0.396458\n",
      "1150, 0.393943\n",
      "1160, 0.394802\n",
      "1170, 0.396340\n",
      "1180, 0.393263\n",
      "1190, 0.393653\n",
      "1200, 0.390987\n",
      "1210, 0.393672\n",
      "1220, 0.390186\n",
      "1230, 0.390468\n",
      "1240, 0.388727\n",
      "1250, 0.389510\n",
      "1260, 0.388896\n",
      "1270, 0.386595\n",
      "1280, 0.389983\n",
      "1290, 0.385355\n",
      "1300, 0.385520\n",
      "1310, 0.384151\n",
      "1320, 0.386306\n",
      "1330, 0.384685\n",
      "1340, 0.383233\n",
      "1350, 0.383202\n",
      "1360, 0.382216\n",
      "1370, 0.382030\n",
      "1380, 0.381730\n",
      "1390, 0.378842\n",
      "1400, 0.384380\n",
      "1410, 0.378754\n",
      "1420, 0.377454\n",
      "1430, 0.375127\n",
      "1440, 0.375526\n",
      "1450, 0.373178\n",
      "1460, 0.378283\n",
      "1470, 0.376823\n",
      "1480, 0.375683\n",
      "1490, 0.372199\n",
      "1500, 0.373072\n",
      "1510, 0.375102\n",
      "1520, 0.371757\n",
      "1530, 0.372922\n",
      "1540, 0.365684\n",
      "1550, 0.372370\n",
      "1560, 0.368718\n",
      "1570, 0.365533\n",
      "1580, 0.370680\n",
      "1590, 0.367633\n",
      "1600, 0.368577\n",
      "1610, 0.367343\n",
      "1620, 0.365119\n",
      "1630, 0.366703\n",
      "1640, 0.364831\n",
      "1650, 0.367621\n",
      "1660, 0.365383\n",
      "1670, 0.365934\n",
      "1680, 0.362234\n",
      "1690, 0.363052\n",
      "1700, 0.368032\n",
      "1710, 0.364900\n",
      "1720, 0.363469\n",
      "1730, 0.359618\n",
      "1740, 0.360852\n",
      "1750, 0.360136\n",
      "1760, 0.360683\n",
      "1770, 0.355759\n",
      "1780, 0.358116\n",
      "1790, 0.354543\n",
      "1800, 0.359536\n",
      "1810, 0.357127\n",
      "1820, 0.359287\n",
      "1830, 0.356476\n",
      "1840, 0.352949\n",
      "1850, 0.350109\n",
      "1860, 0.353307\n",
      "1870, 0.349938\n",
      "1880, 0.355489\n",
      "1890, 0.355293\n",
      "1900, 0.352013\n",
      "1910, 0.353669\n",
      "1920, 0.354543\n",
      "1930, 0.350410\n",
      "1940, 0.348320\n",
      "1950, 0.351475\n",
      "1960, 0.351146\n",
      "1970, 0.346702\n",
      "1980, 0.351999\n",
      "1990, 0.346774\n",
      "2000, 0.348132\n",
      "2010, 0.346932\n",
      "2020, 0.350303\n",
      "2030, 0.344995\n",
      "2040, 0.347347\n",
      "2050, 0.342256\n",
      "2060, 0.346974\n",
      "2070, 0.343298\n",
      "2080, 0.342343\n",
      "2090, 0.348141\n"
     ]
    }
   ],
   "source": [
    "# 训练模型\n",
    "train(mlp_model, X_train, y_train, rainfall, S_moist, slope, R_today, mu, k, rainfall_threshold=20.0, epochs=2100, lambda_phy=0.1)"
   ]
  },
  {
   "cell_type": "code",
   "execution_count": 24,
   "id": "b367961f-1203-45ab-9b7e-90f5e5e4c66c",
   "metadata": {},
   "outputs": [],
   "source": [
    "# 预测并计算不确定性：MC Dropout 预测\n",
    "def predict_with_uncertainty(model, X, n_samples=100):\n",
    "    model.train()  # 在训练模式下启用 Dropout\n",
    "    predictions = np.zeros((n_samples, X.shape[0]))  # 存储每次前向传播的结果\n",
    "    \n",
    "    # 多次前向传播获取预测分布\n",
    "    for i in range(n_samples):\n",
    "        predictions[i] = model(torch.tensor(X, dtype=torch.float32)).detach().numpy().squeeze()\n",
    "\n",
    "    # 计算预测的均值和标准差\n",
    "    mean_prediction = predictions.mean(axis=0)  # 均值\n",
    "    std_prediction = predictions.std(axis=0)    # 标准差\n",
    "\n",
    "    return mean_prediction, std_prediction"
   ]
  },
  {
   "cell_type": "code",
   "execution_count": 25,
   "id": "bfd90d45-0ff8-4fcd-9557-62ed2f8a828a",
   "metadata": {},
   "outputs": [],
   "source": [
    "# 对新样本进行预测并计算不确定性\n",
    "mean_pred, std_pred = predict_with_uncertainty(mlp_model, X_train_with_missing, n_samples=100)"
   ]
  },
  {
   "cell_type": "code",
   "execution_count": 26,
   "id": "d2797e3d-ea8d-447b-9643-6d375d56b51e",
   "metadata": {},
   "outputs": [],
   "source": [
    "# 可视化预测结果和不确定性\n",
    "def plot_uncertainty(mean_pred, std_pred):\n",
    "    plt.plot(mean_pred, label='Mean Prediction')\n",
    "    plt.fill_between(range(len(mean_pred)), mean_pred - 2*std_pred, mean_pred + 2*std_pred, color='gray', alpha=0.5)\n",
    "    plt.legend()\n",
    "    plt.show()"
   ]
  },
  {
   "cell_type": "code",
   "execution_count": 27,
   "id": "4203aecf-03e3-4ac4-a97f-86b73e8af992",
   "metadata": {},
   "outputs": [
    {
     "data": {
      "image/png": "[encoded data removed]",
      "text/plain": [
       "<Figure size 640x480 with 1 Axes>"
      ]
     },
     "metadata": {},
     "output_type": "display_data"
    }
   ],
   "source": [
    "# 可选：可视化模型预测与不确定性\n",
    "plot_uncertainty(mean_pred, std_pred)"
   ]
  },
  {
   "cell_type": "code",
   "execution_count": 28,
   "id": "4d86e506-8efe-497a-bc45-d2d165ad8ec7",
   "metadata": {},
   "outputs": [],
   "source": [
    "# # 保存训练好的模型\n",
    "torch.save(mlp_model.state_dict(), '2025.02.25_PINNs_MCoutput.pth')"
   ]
  },
  {
   "cell_type": "markdown",
   "id": "40c46efe-74e7-4069-b3d4-8c0a9bd23a7a",
   "metadata": {},
   "source": [
    "## 评估模型性能"
   ]
  },
  {
   "cell_type": "code",
   "execution_count": 29,
   "id": "07f2630d-c202-44f0-a7fb-b2381235bbc6",
   "metadata": {},
   "outputs": [],
   "source": [
    "# 用模型预测测试集\n",
    "mlp_model.eval()\n",
    "with torch.no_grad():\n",
    "    # 如果 X_test 是 Tensor，直接使用它，或者 clone().detach() 来确保不跟计算图相关\n",
    "    predictions = mlp_model(X_test.clone().detach()).squeeze()  # 使用 clone().detach()\n",
    "    predictions_classitied = (predictions > 0.5).numpy()  # 将预测结果转化为 0 或 1（分类）"
   ]
  },
  {
   "cell_type": "code",
   "execution_count": 30,
   "id": "c2b11363-d16b-4597-a42f-c6b4435b3bef",
   "metadata": {},
   "outputs": [
    {
     "name": "stdout",
     "output_type": "stream",
     "text": [
      "Accuracy: 82.56%\n"
     ]
    }
   ],
   "source": [
    "# 计算准确率\n",
    "accuracy = accuracy_score(y_test, predictions_classitied)\n",
    "print(f\"Accuracy: {accuracy * 100:.2f}%\")"
   ]
  },
  {
   "cell_type": "code",
   "execution_count": 31,
   "id": "79837e62-d870-4f24-a3ef-2fe109e7d69c",
   "metadata": {},
   "outputs": [
    {
     "name": "stdout",
     "output_type": "stream",
     "text": [
      "Confusion Matrix:\n",
      "[[2730  298]\n",
      " [ 756 2260]]\n"
     ]
    }
   ],
   "source": [
    "# 计算混淆矩阵\n",
    "cm = confusion_matrix(y_test, predictions_classitied)\n",
    "print(f\"Confusion Matrix:\\n{cm}\")"
   ]
  },
  {
   "cell_type": "code",
   "execution_count": 32,
   "id": "f4012c9a-42cf-4001-b9c1-00ae5ea50361",
   "metadata": {},
   "outputs": [
    {
     "name": "stdout",
     "output_type": "stream",
     "text": [
      "Precision: 0.8835\n",
      "Recall: 0.7493\n"
     ]
    }
   ],
   "source": [
    "# 计算精确度与召回率\n",
    "# 精确度（Precision）：衡量所有被预测为正类的样本中，实际为正类的比例。\n",
    "# 公式为：Precision = TP / (TP + FP)。\n",
    "# 召回率（Recall）：衡量所有实际为正类的样本中，模型正确预测为正类的比例。\n",
    "# 公式为：Recall = TP / (TP + FN)。\n",
    "\n",
    "precision = precision_score(y_test, predictions_classitied)\n",
    "recall = recall_score(y_test, predictions_classitied)\n",
    "\n",
    "print(f\"Precision: {precision:.4f}\")\n",
    "print(f\"Recall: {recall:.4f}\")"
   ]
  },
  {
   "cell_type": "code",
   "execution_count": 33,
   "id": "26d0622e-708d-45a5-934f-843fc89661fe",
   "metadata": {},
   "outputs": [
    {
     "name": "stdout",
     "output_type": "stream",
     "text": [
      "F1 Score: 0.8109\n"
     ]
    }
   ],
   "source": [
    "# F1 分数是精确度和召回率的调和平均数，常用于类不平衡的情况下，衡量模型的综合性能。\n",
    "# 公式为：F1 = 2 * (Precision * Recall) / (Precision + Recall)。\n",
    "f1 = f1_score(y_test, predictions_classitied)\n",
    "print(f\"F1 Score: {f1:.4f}\")"
   ]
  },
  {
   "cell_type": "code",
   "execution_count": 34,
   "id": "3b5e6612-faf0-457f-9a54-07c1a1c7dfef",
   "metadata": {},
   "outputs": [
    {
     "name": "stdout",
     "output_type": "stream",
     "text": [
      "AUC: 0.8944\n"
     ]
    }
   ],
   "source": [
    "# 计算 AUC\n",
    "# ROC（接收者操作特征）曲线展示了模型在不同分类阈值下的表现。\n",
    "# AUC（曲线下面积）是该曲线下的面积，值越接近 1，说明模型的表现越好。\n",
    "auc_score = roc_auc_score(y_test, predictions)\n",
    "print(f\"AUC: {auc_score:.4f}\")"
   ]
  },
  {
   "cell_type": "code",
   "execution_count": 35,
   "id": "efe516ca-525e-487d-869e-9c898bf78926",
   "metadata": {},
   "outputs": [],
   "source": [
    "from sklearn.metrics import roc_curve, auc\n",
    "fpr, tpr, thresholds = roc_curve(y_test, predictions)"
   ]
  },
  {
   "cell_type": "code",
   "execution_count": 36,
   "id": "d47af780-122f-40fa-9625-bfa321c3f3ab",
   "metadata": {},
   "outputs": [],
   "source": [
    "# 计算 AUC（曲线下面积）\n",
    "roc_auc = auc(fpr, tpr)"
   ]
  },
  {
   "cell_type": "code",
   "execution_count": 37,
   "id": "bfd67dff-3af1-41ce-a69e-d23a7f948d4f",
   "metadata": {},
   "outputs": [
    {
     "name": "stdout",
     "output_type": "stream",
     "text": [
      "ROC curve data saved to roc_Fs.csv\n"
     ]
    }
   ],
   "source": [
    "# 将 ROC 曲线数据保存为 CSV 文件\n",
    "roc_data = pd.DataFrame({\n",
    "    'fpr': fpr,\n",
    "    'tpr': tpr,\n",
    "    'thresholds': thresholds\n",
    "})\n",
    "roc_csv_file = 'roc_Fs.csv'  # 可根据模型名称调整文件名\n",
    "roc_data.to_csv(roc_csv_file, index=False)\n",
    "print(f\"ROC curve data saved to {roc_csv_file}\")\n"
   ]
  },
  {
   "cell_type": "code",
   "execution_count": 38,
   "id": "56b958c7-69e7-4c5d-a273-8126b8e1888f",
   "metadata": {},
   "outputs": [
    {
     "data": {
      "image/png": "[encoded data removed]",
      "text/plain": [
       "<Figure size 600x600 with 1 Axes>"
      ]
     },
     "metadata": {},
     "output_type": "display_data"
    }
   ],
   "source": [
    "# 绘制 ROC 曲线\n",
    "plt.figure(figsize=(6, 6))\n",
    "plt.plot(fpr, tpr, label=f'AUC = {roc_auc:.4f}')\n",
    "plt.plot([0, 1], [0, 1], 'k--', label='Random Classifier')  # 随机分类器的对角线\n",
    "plt.xlabel('False Positive Rate')\n",
    "plt.ylabel('True Positive Rate')\n",
    "plt.title('ROC Curve with Probability as Input')\n",
    "plt.legend(loc='lower right')\n",
    "plt.show()"
   ]
  },
  {
   "cell_type": "code",
   "execution_count": 39,
   "id": "91f0bbef-c4f3-40ab-93a0-0cd4984e7647",
   "metadata": {},
   "outputs": [],
   "source": [
    "# # 对 logits 进行 Sigmoid 激活处理，转换为概率值\n",
    "# y_pred_prob = torch.sigmoid(y_pred_prob)\n",
    "\n",
    "# # 打印转换后的概率值\n",
    "# print(y_pred_prob[:10])  # 查看转换后的概率值"
   ]
  },
  {
   "cell_type": "code",
   "execution_count": 40,
   "id": "35b23996-2c49-43cd-8700-c5ec053bed4a",
   "metadata": {},
   "outputs": [
    {
     "data": {
      "image/png": "[encoded data removed]",
      "text/plain": [
       "<Figure size 640x480 with 1 Axes>"
      ]
     },
     "metadata": {},
     "output_type": "display_data"
    }
   ],
   "source": [
    "# 手动设置不同的阈值\n",
    "thresholds = [0.3, 0.5, 0.7]  # 设置不同的阈值\n",
    "\n",
    "for threshold in thresholds:\n",
    "    # # 使用 PyTorch 的 .int() 方法进行类型转换\n",
    "    # y_pred_binary = (predictions > threshold).int()  # 将概率转换为二分类标签\n",
    "    # 这里将概率转换为二分类标签的做法是错误的，绘制ROC曲线需要直接输入概率值\n",
    "    \n",
    "    # 计算 ROC 曲线\n",
    "    fpr, tpr, _ = roc_curve(y_test, predictions.numpy())  # 将 Tensor 转为 NumPy 数组\n",
    "    \n",
    "    # 绘制 ROC 曲线\n",
    "    plt.plot(fpr, tpr, label=f'Threshold = {threshold}')\n",
    "\n",
    "# 显示 ROC 曲线\n",
    "plt.xlabel('False Positive Rate')\n",
    "plt.ylabel('True Positive Rate')\n",
    "plt.title('ROC Curve for Different Thresholds')\n",
    "plt.legend(loc='lower right')\n",
    "plt.show()\n"
   ]
  },
  {
   "cell_type": "code",
   "execution_count": null,
   "id": "ee443bbd-32dc-4187-9843-f6ea695e6ede",
   "metadata": {},
   "outputs": [],
   "source": []
  }
 ],
 "metadata": {
  "kernelspec": {
   "display_name": "Python 3 (ipykernel)",
   "language": "python",
   "name": "python3"
  },
  "language_info": {
   "codemirror_mode": {
    "name": "ipython",
    "version": 3
   },
   "file_extension": ".py",
   "mimetype": "text/x-python",
   "name": "python",
   "nbconvert_exporter": "python",
   "pygments_lexer": "ipython3",
   "version": "3.11.5"
  }
 },
 "nbformat": 4,
 "nbformat_minor": 5
}
