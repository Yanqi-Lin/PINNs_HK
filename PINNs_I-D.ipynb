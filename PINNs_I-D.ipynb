{
 "cells": [
  {
   "cell_type": "code",
   "execution_count": 1,
   "id": "63c6e7b4-209d-4e2d-aaa9-11f45e6c70ac",
   "metadata": {},
   "outputs": [],
   "source": [
    "import scipy.io\n",
    "import torch\n",
    "import torch.nn as nn\n",
    "import torch.optim as optim\n",
    "import torch.nn.functional as F\n",
    "import numpy as np\n",
    "import matplotlib.pyplot as plt\n",
    "from sklearn.preprocessing import StandardScaler\n",
    "from sklearn.model_selection import train_test_split\n",
    "from sklearn.metrics import accuracy_score, precision_score, recall_score, confusion_matrix\n",
    "from sklearn.metrics import f1_score, roc_auc_score, roc_curve"
   ]
  },
  {
   "cell_type": "code",
   "execution_count": 2,
   "id": "6bc59826-80e3-4d57-8010-5f685a6faa99",
   "metadata": {},
   "outputs": [],
   "source": [
    "# 读取 .mat 文件\n",
    "mat_file = r\"D:\\School work\\10-Samples\\2025.02.19_DEM+Raingauge+VARI\\02.19.mat\"\n",
    "mat_data = scipy.io.loadmat(mat_file)"
   ]
  },
  {
   "cell_type": "markdown",
   "id": "e2611255-0d12-4ae7-b345-80b5cd4ea380",
   "metadata": {},
   "source": [
    "## 加载并整理输入数据"
   ]
  },
  {
   "cell_type": "code",
   "execution_count": 3,
   "id": "709fc2f0-6d29-4314-961a-9445ff2634fa",
   "metadata": {},
   "outputs": [],
   "source": [
    "# 提取特征和标签\n",
    "X = mat_data['X']  # 特征矩阵，包含高程、坡度、坡向、VARI 和降雨数据\n",
    "y = mat_data['y']  # 标签，二分类问题，滑坡发生与否（0或1）\n",
    "is_missing = mat_data['is_missing']  # 异常值指示变量"
   ]
  },
  {
   "cell_type": "code",
   "execution_count": 4,
   "id": "79d10154-00ae-49f4-93a5-5db080c5623f",
   "metadata": {},
   "outputs": [
    {
     "name": "stdout",
     "output_type": "stream",
     "text": [
      "(20144, 18) (1, 20144) (20144, 18)\n"
     ]
    }
   ],
   "source": [
    "# 检查数据维度\n",
    "print(X.shape, y.shape, is_missing.shape)"
   ]
  },
  {
   "cell_type": "code",
   "execution_count": 5,
   "id": "b1c3d840-fa44-4cb1-9e13-97cffe1effb0",
   "metadata": {},
   "outputs": [],
   "source": [
    "# 提取特征\n",
    "rainfall = X[:, 1:14]  # 过去13天的降雨量数据（Rainfall_2 至 Rainfall_14）\n",
    "R_today = X[:, 0]      # 当天的降雨量，是降雨数据的第一列（Rainfall_1）\n",
    "elevation = X[:, 14]   # 高程（第15列）\n",
    "slope = X[:, 15]       # 坡度（第16列）\n",
    "aspect = X[:, 16]      # 坡向（第17列）\n",
    "VARI = X[:, 17]        # VARI（第18列）"
   ]
  },
  {
   "cell_type": "code",
   "execution_count": 6,
   "id": "f2311783-32c1-4063-bb30-f0974414a722",
   "metadata": {},
   "outputs": [
    {
     "name": "stdout",
     "output_type": "stream",
     "text": [
      "降雨数据形状: (20144, 13)\n",
      "高程数据形状: (20144,)\n",
      "坡度数据形状: (20144,)\n",
      "坡向数据形状: (20144,)\n",
      "VARI数据形状: (20144,)\n"
     ]
    }
   ],
   "source": [
    "# # 查看提取的特征形状\n",
    "print(\"降雨数据形状:\", rainfall.shape)\n",
    "print(\"高程数据形状:\", elevation.shape)\n",
    "print(\"坡度数据形状:\", slope.shape)\n",
    "print(\"坡向数据形状:\", aspect.shape)\n",
    "print(\"VARI数据形状:\", VARI.shape)"
   ]
  },
  {
   "cell_type": "code",
   "execution_count": 7,
   "id": "513dd9e3-5fc7-440e-b4dd-2959067e9607",
   "metadata": {},
   "outputs": [],
   "source": [
    "# # 假设土壤湿润度和摩擦力是常数（可以根据需要修改为数据驱动）\n",
    "# S_moist = 0.5  # 土壤湿润度（假设为常数）\n",
    "# mu = 0.3  # 摩擦力（假设为常数）\n",
    "# k = 0.9  # 衰减系数（假设为常数）"
   ]
  },
  {
   "cell_type": "code",
   "execution_count": 8,
   "id": "23516de5-a6b7-4a41-b7be-ae37fbe289dd",
   "metadata": {},
   "outputs": [],
   "source": [
    "# 数据预处理：标准化特征数据\n",
    "scaler = StandardScaler()\n",
    "X_scaled = scaler.fit_transform(X)  # 标准化 X 数据"
   ]
  },
  {
   "cell_type": "code",
   "execution_count": 9,
   "id": "27a5c8f0-f807-4287-99a3-8bba7c004eb5",
   "metadata": {},
   "outputs": [],
   "source": [
    "# is_missing 的形状为 (20144, 18)，表示每个特征的缺失指示值\n",
    "X_train_with_missing = np.hstack([X_scaled, is_missing])\n",
    "# 结合 `is_missing` 作为额外特征\n",
    "# 将 is_missing 拼到 X 里"
   ]
  },
  {
   "cell_type": "code",
   "execution_count": 10,
   "id": "f8967b4f-51a0-407a-bb0e-2548054b0945",
   "metadata": {},
   "outputs": [],
   "source": [
    "# 扁平化标签，确保其为一维数组\n",
    "y_train = y.flatten() "
   ]
  },
  {
   "cell_type": "code",
   "execution_count": 11,
   "id": "35efc023-6d54-43b6-9909-a7715698d294",
   "metadata": {},
   "outputs": [],
   "source": [
    "# # 将 `X_train_with_missing` 和 `y_train` 转换为 Tensor 类型\n",
    "X_train_tensor = torch.tensor(X_train_with_missing, dtype=torch.float32)\n",
    "y_train_tensor = torch.tensor(y_train, dtype=torch.float32)  # 扁平化标签，确保其为一维数组"
   ]
  },
  {
   "cell_type": "code",
   "execution_count": 12,
   "id": "ab5b21a1-c821-4615-8baa-9c753d36eacf",
   "metadata": {},
   "outputs": [],
   "source": [
    "# # 将 `rainfall`、`slope` 和 `R_today` 转换为 Tensor 类型\n",
    "rainfall_tensor = torch.tensor(rainfall, dtype=torch.float32)  # 降雨量数据\n",
    "slope_tensor = torch.tensor(slope, dtype=torch.float32)  # 坡度\n",
    "R_today_tensor = torch.tensor(R_today, dtype=torch.float32)  # 当天降雨量\n",
    "VARI_tensor = torch.tensor(VARI, dtype=torch.float32)"
   ]
  },
  {
   "cell_type": "code",
   "execution_count": 13,
   "id": "7ed0418d-d007-4f96-bad6-71da5bf1b827",
   "metadata": {},
   "outputs": [],
   "source": [
    "# 划分数据集为训练集和测试集（80% 训练，20% 测试）\n",
    "# X_train, X_test, y_train, y_test = train_test_split(X_train_tensor, y_train_tensor, test_size=0.3, random_state=42)"
   ]
  },
  {
   "cell_type": "code",
   "execution_count": 14,
   "id": "10b2b349-42ea-49e1-99a8-da0ebcbcc759",
   "metadata": {},
   "outputs": [],
   "source": [
    "# 划分训练集和测试集（70% 训练，30% 测试）\n",
    "(X_train, X_test, y_train, y_test,\n",
    "R_train_rainfall, R_test_rainfall,\n",
    "R_train_today, R_test_today,\n",
    "slope_train, slope_test,\n",
    "vari_train, vari_test) = train_test_split(\n",
    "    X_train_tensor,\n",
    "    y_train_tensor,\n",
    "    rainfall_tensor,\n",
    "    R_today_tensor,\n",
    "    slope_tensor,\n",
    "    VARI_tensor,\n",
    "    test_size=0.99,\n",
    "    random_state=42\n",
    ")"
   ]
  },
  {
   "cell_type": "markdown",
   "id": "4d74beb0-79de-4524-a039-86420151a3c2",
   "metadata": {},
   "source": [
    "## 定义模型"
   ]
  },
  {
   "cell_type": "code",
   "execution_count": 15,
   "id": "def0fcbe-6fd9-4285-850f-6d83786b9921",
   "metadata": {},
   "outputs": [],
   "source": [
    "# 定义多层感知机（MLP）模型\n",
    "class MLP(nn.Module):\n",
    "    def __init__(self, input_size, hidden_size, output_size, depth, dropout_rate=0.1):\n",
    "        super(MLP, self).__init__()\n",
    "        \n",
    "        # 定义网络层\n",
    "        layers = []\n",
    "        layers.append(nn.Linear(input_size, hidden_size))  # 输入层\n",
    "        layers.append(nn.Tanh())  # 激活函数：tanh\n",
    "        layers.append(nn.Dropout(dropout_rate))  # Dropout层\n",
    "        \n",
    "        # 隐藏层\n",
    "        for _ in range(depth):\n",
    "            layers.append(nn.Linear(hidden_size, hidden_size))\n",
    "            layers.append(nn.Tanh())  # 激活函数：tanh\n",
    "            layers.append(nn.Dropout(dropout_rate))  # Dropout层\n",
    "        \n",
    "        # 输出层\n",
    "        layers.append(nn.Linear(hidden_size, output_size))  # 输出层（logits）\n",
    "        self.model = nn.Sequential(*layers)\n",
    "        \n",
    "    def forward(self, x):\n",
    "        x = self.model(x)\n",
    "        return x  # 在训练时返回 logits"
   ]
  },
  {
   "cell_type": "code",
   "execution_count": 16,
   "id": "2d31c45c-8cad-4bea-833d-3ece0ca9875d",
   "metadata": {},
   "outputs": [],
   "source": [
    "def estimate_soil_moisture(rainfall, R_today, slope, vari, beta=0.8, k_veg=0.5, k_slope=0.01):\n",
    "    \"\"\"\n",
    "    基于指数衰减+简单植被/坡度修正的土壤湿度估计(简化示例)\n",
    "    不额外增加特征维度，而是在损失函数内部使用。\n",
    "    \"\"\"\n",
    "    powers = torch.arange(rainfall.shape[1], dtype=torch.float32)\n",
    "    weights = beta ** powers  # [13]\n",
    "    accum = (rainfall * weights).sum(dim=1)  # [N]\n",
    "    accum = accum + R_today\n",
    "    effective_infil = accum * torch.exp(-k_veg * vari)\n",
    "    slope_rad = slope * np.pi / 180.\n",
    "    denom = 1.0 + k_slope * torch.tan(slope_rad)\n",
    "    theta_est = effective_infil / denom\n",
    "    return theta_est"
   ]
  },
  {
   "cell_type": "code",
   "execution_count": 17,
   "id": "42524959-6463-41fe-885b-d8d9bdf01168",
   "metadata": {},
   "outputs": [],
   "source": [
    "def moisture_to_risk(theta_est, theta_dry=5.0, theta_sat=50.0):\n",
    "    \"\"\"\n",
    "    将估计含水率映射到滑坡风险(0~1)，线性裁剪示例\n",
    "    \"\"\"\n",
    "    risk = (theta_est - theta_dry) / (theta_sat - theta_dry)\n",
    "    risk_clamped = torch.clamp(risk, 0.0, 1.0)\n",
    "    return risk_clamped"
   ]
  },
  {
   "cell_type": "code",
   "execution_count": 18,
   "id": "002c97ad-5cb3-4090-9641-ede96f7d7b68",
   "metadata": {},
   "outputs": [],
   "source": [
    "def physics_loss_moisture(\n",
    "    model,\n",
    "    X_input,\n",
    "    rainfall,\n",
    "    R_today,\n",
    "    slope,\n",
    "    vari,\n",
    "    theta_dry=5.0,\n",
    "    theta_sat=50.0,\n",
    "    lambda_m=0.1\n",
    "):\n",
    "    \"\"\"\n",
    "    基于土壤湿度先验的物理损失：\n",
    "        L_theta = MSE( p_pred , h( theta_est ) )\n",
    "    \"\"\"\n",
    "    # 1) 计算估计含水率\n",
    "    theta_est = estimate_soil_moisture(rainfall, R_today, slope, vari)\n",
    "\n",
    "    # 2) 得到物理期望的滑坡概率\n",
    "    risk_phy = moisture_to_risk(theta_est, theta_dry, theta_sat)  # [N]\n",
    "\n",
    "    # 3) 获取模型输出并转为概率\n",
    "    logits = model(X_input)  # [N, 1]\n",
    "    p_pred = torch.sigmoid(logits).squeeze(-1)  # [N]\n",
    "\n",
    "    # 4) MSE损失\n",
    "    loss_m = F.mse_loss(p_pred, risk_phy)\n",
    "    return lambda_m * loss_m"
   ]
  },
  {
   "cell_type": "code",
   "execution_count": 19,
   "id": "1db15e2c-52d4-4d18-be63-a1aefe752fa2",
   "metadata": {},
   "outputs": [],
   "source": [
    "def total_loss(\n",
    "    model,\n",
    "    X_train,\n",
    "    y_train,\n",
    "    R,\n",
    "    R_today,\n",
    "    slope,\n",
    "    vari,\n",
    "    lambda_data=1.0,\n",
    "    lambda_m=0.1\n",
    "):\n",
    "    \"\"\"\n",
    "    总损失: 监督损失 + 土壤湿度先验损失\n",
    "    \"\"\"\n",
    "    # 数据损失: 二分类 BCEWithLogits\n",
    "    criterion = nn.BCEWithLogitsLoss()\n",
    "    logits = model(X_train)\n",
    "    data_loss = criterion(logits.squeeze(), y_train)\n",
    "\n",
    "    # 土壤湿度损失\n",
    "    moist_loss_val = physics_loss_moisture(\n",
    "        model=model,\n",
    "        X_input=X_train,\n",
    "        rainfall=R,\n",
    "        R_today=R_today,\n",
    "        slope=slope,\n",
    "        vari=vari,\n",
    "        theta_dry=5.0,\n",
    "        theta_sat=50.0,\n",
    "        lambda_m=lambda_m\n",
    "    )\n",
    "\n",
    "    # 合并\n",
    "    loss_total = lambda_data * data_loss + moist_loss_val\n",
    "    return loss_total"
   ]
  },
  {
   "cell_type": "code",
   "execution_count": 20,
   "id": "98b61ca3-774c-45e5-af68-23f48adc2b4b",
   "metadata": {},
   "outputs": [],
   "source": [
    "####################################\n",
    "# (7) 训练函数\n",
    "####################################\n",
    "\n",
    "def train(\n",
    "    model,\n",
    "    X_train,\n",
    "    y_train,\n",
    "    R,\n",
    "    R_today,\n",
    "    slope,\n",
    "    vari,\n",
    "    epochs=1000,\n",
    "    lambda_data=0.80,\n",
    "    lambda_m=0.1\n",
    "):\n",
    "    optimizer = optim.Adam(model.parameters(), lr=1e-3)\n",
    "    model.train()\n",
    "\n",
    "    for epoch in range(epochs):\n",
    "        optimizer.zero_grad()\n",
    "        loss_val = total_loss(\n",
    "            model=model,\n",
    "            X_train=X_train,\n",
    "            y_train=y_train,\n",
    "            R=R,\n",
    "            R_today=R_today,\n",
    "            slope=slope,\n",
    "            vari=vari,\n",
    "            lambda_data=lambda_data,\n",
    "            lambda_m=lambda_m\n",
    "        )\n",
    "        loss_val.backward()\n",
    "        optimizer.step()\n",
    "\n",
    "        if epoch % 10 == 0:\n",
    "            print(f\"{epoch}, {loss_val.item():.6f}\")"
   ]
  },
  {
   "cell_type": "code",
   "execution_count": 21,
   "id": "e328c9e4-2799-49bf-8ce6-1991abe9322b",
   "metadata": {},
   "outputs": [],
   "source": [
    "# 创建多层感知机模型实例\n",
    "input_size = X_train_with_missing.shape[1]  # 特征数量（包括 is_missing）\n",
    "hidden_size = 64  # 隐藏层节点数\n",
    "output_size = 1  # 输出一个预测值\n",
    "depth = 3  # 隐藏层数量\n",
    "dropout_rate = 0.1  # Dropout层的丢弃率\n",
    "\n",
    "# 初始化模型\n",
    "mlp_model = MLP(input_size, hidden_size, output_size, depth, dropout_rate)"
   ]
  },
  {
   "cell_type": "code",
   "execution_count": 22,
   "id": "c66b140f-f687-4174-a519-db3af1899cbd",
   "metadata": {},
   "outputs": [],
   "source": [
    "# # 定义优化器，并加入 L2 正则化的 weight_decay\n",
    "# learning_rate = 1e-3\n",
    "# lambda_l2 = 0.01  # 设置 L2 正则化强度\n",
    "# optimizer = optim.Adam(mlp_model.parameters(), lr=learning_rate, weight_decay=lambda_l2)"
   ]
  },
  {
   "cell_type": "code",
   "execution_count": 23,
   "id": "3dbf5d2e-1eaa-4381-a0a9-9d81c44cf344",
   "metadata": {},
   "outputs": [],
   "source": [
    "# 下面这行是使用全部输入数据来训练模型的指令\n",
    "# train(mlp_model, X_train_with_missing, y.flatten())  # 扁平化 y，确保其是一个一维数组"
   ]
  },
  {
   "cell_type": "markdown",
   "id": "cddd7cf6-16d1-4df2-98eb-57ecd25c1392",
   "metadata": {},
   "source": [
    "## 设置训练集和测试集\n",
    "    后续使用测试集的测试效果反映模型性能"
   ]
  },
  {
   "cell_type": "code",
   "execution_count": 24,
   "id": "3b4fd4fd-9095-4638-a287-b2ae9c9ab0fa",
   "metadata": {},
   "outputs": [],
   "source": [
    "# # 确保所有输入数据是 Tensor 类型\n",
    "# print(f\"X_train type: {type(X_train_with_missing_tensor)}\")  # 应该是 <class 'torch.Tensor'>\n",
    "# print(f\"y_train type: {type(y_train)}\")  # 应该是 <class 'torch.Tensor'>\n",
    "# print(f\"rainfall type: {type(rainfall)}\")  # 应该是 <class 'torch.Tensor'>\n",
    "# print(f\"S_moist type: {type(S_moist)}\")  # 应该是 <class 'torch.Tensor'>\n",
    "# print(f\"slope type: {type(slope)}\")  # 应该是 <class 'torch.Tensor'>\n",
    "# print(f\"R_today type: {type(R_today)}\")  # 应该是 <class 'torch.Tensor'>\n",
    "# print(f\"mu type: {type(mu)}\")  # 应该是 <class 'torch.Tensor'>\n",
    "# print(f\"k: {type(k)}\")  # 应该是 <class 'torch.Tensor'>"
   ]
  },
  {
   "cell_type": "code",
   "execution_count": 25,
   "id": "d1be4ddc-cd6f-4d15-9926-e486abc75cdc",
   "metadata": {},
   "outputs": [
    {
     "name": "stdout",
     "output_type": "stream",
     "text": [
      "0, 0.581211\n",
      "10, 0.508270\n",
      "20, 0.369293\n",
      "30, 0.328915\n",
      "40, 0.295469\n",
      "50, 0.294345\n",
      "60, 0.282032\n",
      "70, 0.265956\n",
      "80, 0.260517\n",
      "90, 0.241463\n",
      "100, 0.241417\n",
      "110, 0.226567\n",
      "120, 0.212414\n",
      "130, 0.224805\n",
      "140, 0.228703\n",
      "150, 0.215816\n",
      "160, 0.227678\n",
      "170, 0.199783\n",
      "180, 0.203165\n",
      "190, 0.191769\n",
      "200, 0.193973\n",
      "210, 0.192984\n",
      "220, 0.178113\n",
      "230, 0.180370\n",
      "240, 0.191459\n",
      "250, 0.169737\n",
      "260, 0.162865\n",
      "270, 0.162653\n",
      "280, 0.139980\n",
      "290, 0.154745\n",
      "300, 0.175662\n",
      "310, 0.157182\n",
      "320, 0.137981\n",
      "330, 0.143972\n",
      "340, 0.131827\n",
      "350, 0.132758\n",
      "360, 0.127877\n",
      "370, 0.135821\n",
      "380, 0.111429\n",
      "390, 0.112279\n",
      "400, 0.105049\n",
      "410, 0.115297\n",
      "420, 0.110286\n",
      "430, 0.118197\n",
      "440, 0.104131\n",
      "450, 0.092907\n",
      "460, 0.090871\n",
      "470, 0.098556\n",
      "480, 0.097023\n",
      "490, 0.103170\n",
      "500, 0.097046\n",
      "510, 0.104002\n",
      "520, 0.093009\n",
      "530, 0.094099\n",
      "540, 0.086247\n",
      "550, 0.080619\n",
      "560, 0.086970\n",
      "570, 0.089003\n",
      "580, 0.088550\n",
      "590, 0.086869\n",
      "600, 0.091051\n",
      "610, 0.087061\n",
      "620, 0.077510\n",
      "630, 0.088393\n",
      "640, 0.085499\n",
      "650, 0.077096\n",
      "660, 0.080639\n",
      "670, 0.089224\n",
      "680, 0.077857\n",
      "690, 0.083714\n",
      "700, 0.083146\n",
      "710, 0.077192\n",
      "720, 0.082117\n",
      "730, 0.074157\n",
      "740, 0.071981\n",
      "750, 0.079147\n",
      "760, 0.075087\n",
      "770, 0.096902\n",
      "780, 0.073068\n",
      "790, 0.076306\n",
      "800, 0.071636\n",
      "810, 0.069662\n",
      "820, 0.072206\n",
      "830, 0.076853\n",
      "840, 0.071456\n",
      "850, 0.070265\n",
      "860, 0.067843\n",
      "870, 0.072757\n",
      "880, 0.066865\n",
      "890, 0.074016\n",
      "900, 0.065628\n",
      "910, 0.066182\n",
      "920, 0.063170\n",
      "930, 0.064343\n",
      "940, 0.062210\n",
      "950, 0.066298\n",
      "960, 0.062016\n",
      "970, 0.061019\n",
      "980, 0.068374\n",
      "990, 0.057000\n",
      "1000, 0.059025\n",
      "1010, 0.061302\n",
      "1020, 0.055737\n",
      "1030, 0.061125\n",
      "1040, 0.067356\n",
      "1050, 0.053677\n",
      "1060, 0.062605\n",
      "1070, 0.057213\n",
      "1080, 0.056897\n",
      "1090, 0.059788\n",
      "1100, 0.069696\n",
      "1110, 0.062983\n",
      "1120, 0.066064\n",
      "1130, 0.053209\n",
      "1140, 0.063250\n",
      "1150, 0.067850\n",
      "1160, 0.054904\n",
      "1170, 0.068537\n",
      "1180, 0.052398\n",
      "1190, 0.060303\n",
      "1200, 0.055062\n",
      "1210, 0.051838\n",
      "1220, 0.055461\n",
      "1230, 0.054608\n",
      "1240, 0.057440\n",
      "1250, 0.052646\n",
      "1260, 0.058037\n",
      "1270, 0.051534\n",
      "1280, 0.055853\n",
      "1290, 0.051518\n",
      "1300, 0.051482\n",
      "1310, 0.052764\n",
      "1320, 0.054667\n",
      "1330, 0.052604\n",
      "1340, 0.071012\n",
      "1350, 0.056112\n",
      "1360, 0.053679\n",
      "1370, 0.062100\n",
      "1380, 0.051518\n",
      "1390, 0.054485\n",
      "1400, 0.051368\n",
      "1410, 0.052180\n",
      "1420, 0.051628\n",
      "1430, 0.059971\n",
      "1440, 0.051833\n",
      "1450, 0.057563\n",
      "1460, 0.051514\n",
      "1470, 0.050911\n",
      "1480, 0.051610\n",
      "1490, 0.062076\n",
      "1500, 0.051993\n",
      "1510, 0.054741\n",
      "1520, 0.050986\n",
      "1530, 0.053578\n",
      "1540, 0.055770\n",
      "1550, 0.052679\n",
      "1560, 0.051137\n",
      "1570, 0.051371\n",
      "1580, 0.052522\n",
      "1590, 0.051163\n",
      "1600, 0.053797\n",
      "1610, 0.051502\n",
      "1620, 0.052998\n",
      "1630, 0.051137\n",
      "1640, 0.054290\n",
      "1650, 0.053809\n",
      "1660, 0.051293\n",
      "1670, 0.051865\n",
      "1680, 0.050801\n",
      "1690, 0.050798\n",
      "1700, 0.056630\n",
      "1710, 0.051653\n",
      "1720, 0.051030\n",
      "1730, 0.059640\n",
      "1740, 0.055683\n",
      "1750, 0.056055\n",
      "1760, 0.067656\n",
      "1770, 0.053760\n",
      "1780, 0.050737\n",
      "1790, 0.052336\n",
      "1800, 0.051005\n",
      "1810, 0.050763\n",
      "1820, 0.051100\n",
      "1830, 0.051037\n",
      "1840, 0.050987\n",
      "1850, 0.050448\n",
      "1860, 0.070732\n",
      "1870, 0.052578\n",
      "1880, 0.051650\n",
      "1890, 0.050836\n",
      "1900, 0.062097\n",
      "1910, 0.052547\n",
      "1920, 0.051573\n",
      "1930, 0.052035\n",
      "1940, 0.056358\n",
      "1950, 0.050690\n",
      "1960, 0.050690\n",
      "1970, 0.052458\n",
      "1980, 0.050642\n",
      "1990, 0.050987\n"
     ]
    }
   ],
   "source": [
    "# 训练示例\n",
    "train(\n",
    "    model=mlp_model,\n",
    "    X_train=X_train,\n",
    "    y_train=y_train,\n",
    "    R=R_train_rainfall,\n",
    "    R_today=R_train_today,\n",
    "    slope=slope_train,\n",
    "    vari=vari_train,\n",
    "    epochs=2000,\n",
    "    lambda_data=0.80,\n",
    "    lambda_m=0.1\n",
    ")"
   ]
  },
  {
   "cell_type": "code",
   "execution_count": 26,
   "id": "b367961f-1203-45ab-9b7e-90f5e5e4c66c",
   "metadata": {},
   "outputs": [],
   "source": [
    "# 预测并计算不确定性：MC Dropout 预测\n",
    "def predict_with_uncertainty(model, X, n_samples=100):\n",
    "    model.train()  # 在训练模式下启用 Dropout\n",
    "    predictions = np.zeros((n_samples, X.shape[0]))  # 存储每次前向传播的结果\n",
    "    \n",
    "    # 多次前向传播获取预测分布\n",
    "    for i in range(n_samples):\n",
    "        predictions[i] = model(torch.tensor(X, dtype=torch.float32)).detach().numpy().squeeze()\n",
    "\n",
    "    # 计算预测的均值和标准差\n",
    "    mean_prediction = predictions.mean(axis=0)  # 均值\n",
    "    std_prediction = predictions.std(axis=0)    # 标准差\n",
    "\n",
    "    return mean_prediction, std_prediction"
   ]
  },
  {
   "cell_type": "code",
   "execution_count": 27,
   "id": "bfd90d45-0ff8-4fcd-9557-62ed2f8a828a",
   "metadata": {},
   "outputs": [],
   "source": [
    "# 对新样本进行预测并计算不确定性\n",
    "mean_pred, std_pred = predict_with_uncertainty(mlp_model, X_train_with_missing, n_samples=100)"
   ]
  },
  {
   "cell_type": "code",
   "execution_count": 28,
   "id": "d2797e3d-ea8d-447b-9643-6d375d56b51e",
   "metadata": {},
   "outputs": [],
   "source": [
    "# 可视化预测结果和不确定性\n",
    "def plot_uncertainty(mean_pred, std_pred):\n",
    "    plt.plot(mean_pred, label='Mean Prediction')\n",
    "    plt.fill_between(range(len(mean_pred)), mean_pred - 2*std_pred, mean_pred + 2*std_pred, color='gray', alpha=0.5)\n",
    "    plt.legend()\n",
    "    plt.show()"
   ]
  },
  {
   "cell_type": "code",
   "execution_count": 29,
   "id": "4203aecf-03e3-4ac4-a97f-86b73e8af992",
   "metadata": {},
   "outputs": [
    {
     "data": {
      "image/png": "[encoded data removed]",
      "text/plain": [
       "<Figure size 640x480 with 1 Axes>"
      ]
     },
     "metadata": {},
     "output_type": "display_data"
    }
   ],
   "source": [
    "# 可选：可视化模型预测与不确定性\n",
    "plot_uncertainty(mean_pred, std_pred)"
   ]
  },
  {
   "cell_type": "code",
   "execution_count": 30,
   "id": "4d86e506-8efe-497a-bc45-d2d165ad8ec7",
   "metadata": {},
   "outputs": [],
   "source": [
    "# # 保存训练好的模型\n",
    "torch.save(mlp_model.state_dict(), '2025.03.23_newPINNs_3.pth')"
   ]
  },
  {
   "cell_type": "markdown",
   "id": "40c46efe-74e7-4069-b3d4-8c0a9bd23a7a",
   "metadata": {},
   "source": [
    "## 评估模型性能"
   ]
  },
  {
   "cell_type": "code",
   "execution_count": 31,
   "id": "07f2630d-c202-44f0-a7fb-b2381235bbc6",
   "metadata": {},
   "outputs": [],
   "source": [
    "# 用模型预测测试集\n",
    "mlp_model.eval()\n",
    "with torch.no_grad():\n",
    "    # 如果 X_test 是 Tensor，直接使用它，或者 clone().detach() 来确保不跟计算图相关\n",
    "    predictions = mlp_model(X_test.clone().detach()).squeeze()  # 使用 clone().detach()\n",
    "    predictions_classitied = (predictions > 0.5).numpy()  # 将预测结果转化为 0 或 1（分类）"
   ]
  },
  {
   "cell_type": "code",
   "execution_count": 32,
   "id": "c2b11363-d16b-4597-a42f-c6b4435b3bef",
   "metadata": {},
   "outputs": [
    {
     "name": "stdout",
     "output_type": "stream",
     "text": [
      "Accuracy: 76.68%\n"
     ]
    }
   ],
   "source": [
    "# 计算准确率\n",
    "accuracy = accuracy_score(y_test, predictions_classitied)\n",
    "print(f\"Accuracy: {accuracy * 100:.2f}%\")"
   ]
  },
  {
   "cell_type": "code",
   "execution_count": 33,
   "id": "79837e62-d870-4f24-a3ef-2fe109e7d69c",
   "metadata": {},
   "outputs": [
    {
     "name": "stdout",
     "output_type": "stream",
     "text": [
      "Confusion Matrix:\n",
      "[[7597 2375]\n",
      " [2276 7695]]\n"
     ]
    }
   ],
   "source": [
    "# 计算混淆矩阵\n",
    "cm = confusion_matrix(y_test, predictions_classitied)\n",
    "print(f\"Confusion Matrix:\\n{cm}\")"
   ]
  },
  {
   "cell_type": "code",
   "execution_count": 34,
   "id": "f4012c9a-42cf-4001-b9c1-00ae5ea50361",
   "metadata": {},
   "outputs": [
    {
     "name": "stdout",
     "output_type": "stream",
     "text": [
      "Precision: 0.7642\n",
      "Recall: 0.7717\n"
     ]
    }
   ],
   "source": [
    "# 计算精确度与召回率\n",
    "# 精确度（Precision）：衡量所有被预测为正类的样本中，实际为正类的比例。\n",
    "# 公式为：Precision = TP / (TP + FP)。\n",
    "# 召回率（Recall）：衡量所有实际为正类的样本中，模型正确预测为正类的比例。\n",
    "# 公式为：Recall = TP / (TP + FN)。\n",
    "\n",
    "precision = precision_score(y_test, predictions_classitied)\n",
    "recall = recall_score(y_test, predictions_classitied)\n",
    "\n",
    "print(f\"Precision: {precision:.4f}\")\n",
    "print(f\"Recall: {recall:.4f}\")"
   ]
  },
  {
   "cell_type": "code",
   "execution_count": 35,
   "id": "26d0622e-708d-45a5-934f-843fc89661fe",
   "metadata": {},
   "outputs": [
    {
     "name": "stdout",
     "output_type": "stream",
     "text": [
      "F1 Score: 0.7679\n"
     ]
    }
   ],
   "source": [
    "# F1 分数是精确度和召回率的调和平均数，常用于类不平衡的情况下，衡量模型的综合性能。\n",
    "# 公式为：F1 = 2 * (Precision * Recall) / (Precision + Recall)。\n",
    "f1 = f1_score(y_test, predictions_classitied)\n",
    "print(f\"F1 Score: {f1:.4f}\")"
   ]
  },
  {
   "cell_type": "code",
   "execution_count": 36,
   "id": "3b5e6612-faf0-457f-9a54-07c1a1c7dfef",
   "metadata": {},
   "outputs": [
    {
     "name": "stdout",
     "output_type": "stream",
     "text": [
      "AUC: 0.8337\n"
     ]
    }
   ],
   "source": [
    "# 计算 AUC\n",
    "# ROC（接收者操作特征）曲线展示了模型在不同分类阈值下的表现。\n",
    "# AUC（曲线下面积）是该曲线下的面积，值越接近 1，说明模型的表现越好。\n",
    "auc_score = roc_auc_score(y_test, predictions)\n",
    "print(f\"AUC: {auc_score:.4f}\")"
   ]
  },
  {
   "cell_type": "code",
   "execution_count": 37,
   "id": "efe516ca-525e-487d-869e-9c898bf78926",
   "metadata": {},
   "outputs": [],
   "source": [
    "from sklearn.metrics import roc_curve, auc\n",
    "fpr, tpr, thresholds = roc_curve(y_test, predictions)"
   ]
  },
  {
   "cell_type": "code",
   "execution_count": 38,
   "id": "d47af780-122f-40fa-9625-bfa321c3f3ab",
   "metadata": {},
   "outputs": [],
   "source": [
    "# 计算 AUC（曲线下面积）\n",
    "roc_auc = auc(fpr, tpr)"
   ]
  },
  {
   "cell_type": "code",
   "execution_count": 39,
   "id": "56b958c7-69e7-4c5d-a273-8126b8e1888f",
   "metadata": {},
   "outputs": [
    {
     "data": {
      "image/png": "[encoded data removed]",
      "text/plain": [
       "<Figure size 600x600 with 1 Axes>"
      ]
     },
     "metadata": {},
     "output_type": "display_data"
    }
   ],
   "source": [
    "# 绘制 ROC 曲线\n",
    "plt.figure(figsize=(6, 6))\n",
    "plt.plot(fpr, tpr, label=f'AUC = {roc_auc:.4f}')\n",
    "plt.plot([0, 1], [0, 1], 'k--', label='Random Classifier')  # 随机分类器的对角线\n",
    "plt.xlabel('False Positive Rate')\n",
    "plt.ylabel('True Positive Rate')\n",
    "plt.title('ROC Curve with Probability as Input')\n",
    "plt.legend(loc='lower right')\n",
    "plt.show()"
   ]
  },
  {
   "cell_type": "code",
   "execution_count": 40,
   "id": "91f0bbef-c4f3-40ab-93a0-0cd4984e7647",
   "metadata": {},
   "outputs": [],
   "source": [
    "# # 对 logits 进行 Sigmoid 激活处理，转换为概率值\n",
    "# y_pred_prob = torch.sigmoid(y_pred_prob)\n",
    "\n",
    "# # 打印转换后的概率值\n",
    "# print(y_pred_prob[:10])  # 查看转换后的概率值"
   ]
  },
  {
   "cell_type": "code",
   "execution_count": 41,
   "id": "35b23996-2c49-43cd-8700-c5ec053bed4a",
   "metadata": {},
   "outputs": [
    {
     "data": {
      "image/png": "[encoded data removed]",
      "text/plain": [
       "<Figure size 640x480 with 1 Axes>"
      ]
     },
     "metadata": {},
     "output_type": "display_data"
    }
   ],
   "source": [
    "# 手动设置不同的阈值\n",
    "thresholds = [0.3, 0.5, 0.7]  # 设置不同的阈值\n",
    "\n",
    "for threshold in thresholds:\n",
    "    # # 使用 PyTorch 的 .int() 方法进行类型转换\n",
    "    # y_pred_binary = (predictions > threshold).int()  # 将概率转换为二分类标签\n",
    "    # 这里将概率转换为二分类标签的做法是错误的，绘制ROC曲线需要直接输入概率值\n",
    "    \n",
    "    # 计算 ROC 曲线\n",
    "    fpr, tpr, _ = roc_curve(y_test, predictions.numpy())  # 将 Tensor 转为 NumPy 数组\n",
    "    \n",
    "    # 绘制 ROC 曲线\n",
    "    plt.plot(fpr, tpr, label=f'Threshold = {threshold}')\n",
    "\n",
    "# 显示 ROC 曲线\n",
    "plt.xlabel('False Positive Rate')\n",
    "plt.ylabel('True Positive Rate')\n",
    "plt.title('ROC Curve for Different Thresholds')\n",
    "plt.legend(loc='lower right')\n",
    "plt.show()\n"
   ]
  },
  {
   "cell_type": "code",
   "execution_count": null,
   "id": "ee443bbd-32dc-4187-9843-f6ea695e6ede",
   "metadata": {},
   "outputs": [],
   "source": []
  }
 ],
 "metadata": {
  "kernelspec": {
   "display_name": "Python 3 (ipykernel)",
   "language": "python",
   "name": "python3"
  },
  "language_info": {
   "codemirror_mode": {
    "name": "ipython",
    "version": 3
   },
   "file_extension": ".py",
   "mimetype": "text/x-python",
   "name": "python",
   "nbconvert_exporter": "python",
   "pygments_lexer": "ipython3",
   "version": "3.11.5"
  }
 },
 "nbformat": 4,
 "nbformat_minor": 5
}
